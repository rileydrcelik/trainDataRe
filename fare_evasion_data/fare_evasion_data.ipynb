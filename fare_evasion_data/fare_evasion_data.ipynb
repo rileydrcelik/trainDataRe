{
 "cells": [
  {
   "cell_type": "code",
   "execution_count": 1,
   "metadata": {},
   "outputs": [],
   "source": [
    "import pandas as pd\n",
    "import openpyxl"
   ]
  },
  {
   "cell_type": "code",
   "execution_count": 14,
   "metadata": {},
   "outputs": [],
   "source": [
    "\n",
    "# Replace 'your_file.xlsx' with the path to your Excel file\n",
    "q1_file = 'rawdata/q1_2023_evasion.csv'\n",
    "q2_file = 'rawdata/q2_2023_evasion.csv'\n",
    "q3_file = 'rawdata/q3_2023_evasion.csv'\n",
    "q4_file = 'rawdata/q4_2023_evasion.csv'\n"
   ]
  },
  {
   "cell_type": "code",
   "execution_count": 15,
   "metadata": {},
   "outputs": [
    {
     "name": "stdout",
     "output_type": "stream",
     "text": [
      "Summed dataset saved as 'summed_station_data.csv'.\n"
     ]
    }
   ],
   "source": [
    "\n",
    "# Read the csv file\n",
    "df_q1 = pd.read_csv(q1_file)\n",
    "df_q2 = pd.read_csv(q2_file)\n",
    "df_q3 = pd.read_csv(q3_file)\n",
    "df_q4 = pd.read_csv(q4_file)\n",
    "# Find common rows based on the 'station' column across all quarters\n",
    "common_stations = set(df_q1['station']).intersection(df_q2['station'], df_q3['station'], df_q4['station'])"
   ]
  },
  {
   "cell_type": "code",
   "execution_count": 20,
   "metadata": {},
   "outputs": [],
   "source": [
    "\n",
    "# Concatenate all quarters into one DataFrame\n",
    "combined = pd.concat([df_q1, df_q2, df_q3, df_q4])\n",
    "\n",
    "# Group by 'station' and aggregate the data\n",
    "aggregated = combined.groupby('station').agg({\n",
    "    'a_teen': 'sum',\n",
    "    'a_college': 'sum',\n",
    "    'a_adult': 'sum',\n",
    "    'a_mid': 'sum',\n",
    "    'a_old': 'sum',\n",
    "    #'a_unknown': 'sum',\n",
    "    'r_native': 'sum',\n",
    "    'r_asian': 'sum',\n",
    "    'r_black': 'sum',\n",
    "    'r_latino': 'sum',\n",
    "    'r_unknown': 'sum',\n",
    "    'r_white': 'sum',\n",
    "    'sex_f': 'sum',\n",
    "    's_m': 'sum',\n",
    "    'sex_u': 'sum',\n",
    "    'total': 'sum'\n",
    "}).reset_index()\n",
    "\n",
    "# Save the aggregated DataFrame to a new CSV\n",
    "aggregated.to_csv('rawdata/combined_aggregated_2023.csv', index=False)\n"
   ]
  }
 ],
 "metadata": {
  "kernelspec": {
   "display_name": "Python 3",
   "language": "python",
   "name": "python3"
  },
  "language_info": {
   "codemirror_mode": {
    "name": "ipython",
    "version": 3
   },
   "file_extension": ".py",
   "mimetype": "text/x-python",
   "name": "python",
   "nbconvert_exporter": "python",
   "pygments_lexer": "ipython3",
   "version": "3.12.5"
  }
 },
 "nbformat": 4,
 "nbformat_minor": 2
}
